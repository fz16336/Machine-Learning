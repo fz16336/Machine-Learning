{
 "cells": [
  {
   "cell_type": "markdown",
   "metadata": {},
   "source": [
    "# Image Processing"
   ]
  },
  {
   "cell_type": "code",
   "execution_count": 4,
   "metadata": {},
   "outputs": [],
   "source": [
    "import cv2\n",
    "ori_img = cv2.imread('./images/carl.png', 0)\n",
    "img = cv2.resize(ori_img,None,fx=0.5,fy=0.5)\n",
    "# print(ori_img.shape)\n",
    "# print(img.shape)\n",
    "cv2.imshow('test image', img)\n",
    "cv2.imwrite(r'./images/grey_carl.jpg', img)\n",
    "cv2.waitKey(0)\n",
    "cv2.destroyAllWindows()"
   ]
  },
  {
   "cell_type": "code",
   "execution_count": 5,
   "metadata": {},
   "outputs": [],
   "source": [
    "import numpy as np\n",
    "import matplotlib.pyplot as plt\n",
    "\n",
    "def add_gaussian_noise(im,prop,varSigma):\n",
    "    N = int(np.round(np.prod(im.shape)*prop))\n",
    "    index = np.unravel_index(np.random.permutation(np.prod(im.shape))[1:N],im.shape)\n",
    "    e = varSigma*np.random.randn(np.prod(im.shape)).reshape(im.shape)\n",
    "    im2 = np.copy(im).astype('float')\n",
    "    im2[index] += e[index]\n",
    "    return im2\n",
    "\n",
    "def add_saltnpeppar_noise(im,prop):\n",
    "    N = int(np.round(np.prod(im.shape)*prop))\n",
    "    index = np.unravel_index(np.random.permutation(np.prod(im.shape))[1:N],im.shape)\n",
    "    im2 = np.copy(im)\n",
    "    im2[index] = 1-im2[index]\n",
    "    return im2\n",
    "   \n",
    "prop = 0.5\n",
    "# prop: percentage of images to alter (parameter for both noise mask), prop = 1 --> 100% colour inversion for saltnpeppar noise.\n",
    "varSigma = 1\n",
    "# varSigma = standard deviation parameter for Gaussian noise, low varSigma --> smoother noise spread.\n",
    "\n",
    "prop_img = img/255\n",
    "gauss_noise = add_gaussian_noise(prop_img,prop,varSigma)\n",
    "cv2.imshow('gaussian noise', gauss_noise)\n",
    "cv2.imwrite(r'./images/gauss_carl.jpg', gauss_noise)\n",
    "\n",
    "\n",
    "snp_noise = add_saltnpeppar_noise(prop_img,prop)\n",
    "cv2.imshow('saltnpeppar noise', snp_noise)\n",
    "cv2.imwrite(r'./images/snp_carl.jpg', snp_noise)\n",
    "\n",
    "cv2.waitKey(0)\n",
    "cv2.destroyAllWindows()\n",
    "\n"
   ]
  },
  {
   "cell_type": "code",
   "execution_count": 6,
   "metadata": {},
   "outputs": [],
   "source": [
    "img_gray_arr = np.asarray(prop_img) # convert input into computable array\n",
    "x = np.rint(img_gray_arr) # round elements of array to nearest integer to determine if pixel is black or white \n",
    "img_mean = np.mean(x) \n",
    "img_arr = np.copy(x)\n",
    "img_arr[x<img_mean] = -1 # if below average pixel value set to black\n",
    "img_arr[x>=img_mean] = 1 # if above average pixel value set to white\n",
    "'''\n",
    "To see the exact pixel values for analysis uncommonent the codes below\n",
    "'''\n",
    "# print(img_mean)\n",
    "# print(img_gray_arr)\n",
    "# print(img_arr)\n",
    "# print(img_arr[0:10,0:10])\n",
    "# print(img_arr.shape)\n",
    "\n",
    "binary_img = cv2.imshow('binary image', img_arr)\n",
    "cv2.imwrite(r'./images/binary_carl.jpg', img_arr)\n",
    "cv2.waitKey(0)\n",
    "cv2.destroyAllWindows()"
   ]
  },
  {
   "cell_type": "code",
   "execution_count": 7,
   "metadata": {},
   "outputs": [
    {
     "name": "stdout",
     "output_type": "stream",
     "text": [
      "(182, 182)\n"
     ]
    }
   ],
   "source": [
    "noisy_img_gray_arr = np.asarray(gauss_noise) # Change to snp_noise to see how saltnpeppar noise mask differ\n",
    "y = np.rint(noisy_img_gray_arr)\n",
    "noisy_img_mean = np.mean(y)\n",
    "noisy_img_arr = np.copy(y)\n",
    "noisy_img_arr[y<noisy_img_mean] = -1\n",
    "noisy_img_arr[y>=noisy_img_mean] = 1\n",
    "\n",
    "binary_noise = cv2.imshow('binary noise', noisy_img_arr)\n",
    "print(noisy_img_arr.shape)\n",
    "cv2.imwrite(r'./images/binary_carl_noise.jpg', noisy_img_arr)\n",
    "cv2.waitKey(0)\n",
    "cv2.destroyAllWindows()\n",
    "\n"
   ]
  }
 ],
 "metadata": {
  "kernelspec": {
   "display_name": "Python 3",
   "language": "python",
   "name": "python3"
  },
  "language_info": {
   "codemirror_mode": {
    "name": "ipython",
    "version": 3
   },
   "file_extension": ".py",
   "mimetype": "text/x-python",
   "name": "python",
   "nbconvert_exporter": "python",
   "pygments_lexer": "ipython3",
   "version": "3.7.1"
  }
 },
 "nbformat": 4,
 "nbformat_minor": 2
}
