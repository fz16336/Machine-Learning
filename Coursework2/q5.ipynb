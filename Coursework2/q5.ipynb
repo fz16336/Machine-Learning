{
 "cells": [
  {
   "cell_type": "code",
   "execution_count": null,
   "metadata": {},
   "outputs": [],
   "source": [
    "def lower_bound(p, f, D, N):\n",
    "    '''\n",
    "    p = variational parameters\n",
    "    f = log functions\n",
    "    D = dataset\n",
    "    N = number of samples\n",
    "    '''\n",
    "    mu, cov = p[:D], np.exp(p[:D])\n",
    "    samples = npr.randn(N,D)*np.sqrt(cov)+mu\n",
    "    result = mvn.entropy(mu, np.diag(cov))+np.mean(logprob(samples))\n",
    "    \n",
    "    return result\n",
    "\n"
   ]
  },
  {
   "cell_type": "markdown",
   "metadata": {},
   "source": [
    "# Kullback- Leibler Divergence\n"
   ]
  }
 ],
 "metadata": {
  "kernelspec": {
   "display_name": "Python 3",
   "language": "python",
   "name": "python3"
  },
  "language_info": {
   "codemirror_mode": {
    "name": "ipython",
    "version": 3
   },
   "file_extension": ".py",
   "mimetype": "text/x-python",
   "name": "python",
   "nbconvert_exporter": "python",
   "pygments_lexer": "ipython3",
   "version": "3.6.5"
  }
 },
 "nbformat": 4,
 "nbformat_minor": 2
}
